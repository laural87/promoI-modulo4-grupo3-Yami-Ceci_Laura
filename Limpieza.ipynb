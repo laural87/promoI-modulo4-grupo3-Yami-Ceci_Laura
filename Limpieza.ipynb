{
 "cells": [
  {
   "cell_type": "code",
   "execution_count": 2,
   "metadata": {},
   "outputs": [],
   "source": [
    "import pandas as pd\n",
    "\n",
    "pd.set_option('display.max_columns', None) # para poder visualizar todas las columnas de los DataFrames"
   ]
  },
  {
   "cell_type": "code",
   "execution_count": 3,
   "metadata": {},
   "outputs": [],
   "source": [
    "df = pd.read_csv('DisneyMoviesDataset.csv', index_col=0)"
   ]
  },
  {
   "cell_type": "markdown",
   "metadata": {},
   "source": [
    "### LIMPIEZA"
   ]
  },
  {
   "cell_type": "code",
   "execution_count": 4,
   "metadata": {},
   "outputs": [],
   "source": [
    "#Borramos columnas innecesarias para el análsis\n",
    "columnas_a_eliminar = ['Release date','Running time', 'metascore', 'rotten_tomatoes', 'Written by', 'Starring', 'Music by', 'Budget', 'Box office', 'Story by', 'Narrated by', 'Cinematography', 'Edited by', 'Screenplay by', 'Production companies', 'Adaptation by', 'Traditional', 'Simplified']\n",
    "def eliminar_columnas(df, lista):\n",
    "    df.drop( columns = lista, inplace= True)\n",
    "eliminar_columnas(df,columnas_a_eliminar) \n",
    "\n"
   ]
  },
  {
   "cell_type": "code",
   "execution_count": 5,
   "metadata": {},
   "outputs": [],
   "source": [
    "def cambiar_cabeceras (df):\n",
    "\n",
    "    df.columns = [col.lower().replace(' ', '_').replace('_(int)', '').replace('_(float)', '').replace('_(datetime)', '') for col in df.columns]\n",
    "\n",
    "cambiar_cabeceras(df)\n",
    "\n"
   ]
  },
  {
   "cell_type": "code",
   "execution_count": 6,
   "metadata": {},
   "outputs": [],
   "source": [
    "# columnas que deseas explotar\n",
    "columns_to_explode = ['production_company', 'country', 'language']\n",
    "\n",
    "def explode_columnas(df, lista):\n",
    "# Aplicas explode a cada columna\n",
    "    df_exploded = df.copy()  # Crear una copia del DataFrame original\n",
    "    for col in columns_to_explode:\n",
    "        df_exploded = df_exploded.explode(col)\n",
    "    return df_exploded\n",
    "\n",
    "df_exploded = explode_columnas(df,columns_to_explode)\n",
    "\n",
    "\n"
   ]
  },
  {
   "cell_type": "code",
   "execution_count": 27,
   "metadata": {},
   "outputs": [],
   "source": [
    "def elegir_primer(df):\n",
    "\n",
    "    #Limpiamos columna directed BY\n",
    "    df['directed_by'] = df['directed_by'].str.replace(\"['Animated sequences:',\",'').str.replace(\"['Supervising director:',\",'').str.replace(\"['Animated sequences:',\",'').str.replace(\"['Supervising director',\",'')\n",
    "    df['directed_by'] = df['directed_by'].str.split(',').str[0]\n",
    "    df['directed_by'] = df['directed_by'].str.replace('\"','').str.replace('[','').str.replace(\"'\",'')\n",
    "    df['directed_by'] = df['directed_by'].str.replace('(supervising)','').str.replace('(supervising director)','').str.replace('(animation)','').str.strip()\n",
    "    df['directed_by'] = df['directed_by'].fillna('Unknown')\n",
    "\n",
    "    # Limpiamos columna produced_by\n",
    "    df['produced_by'] = df['produced_by'].str.split(',').str[0]\n",
    "    df['produced_by'] = df['produced_by'].str.replace('\"','').str.replace('[','').str.replace(\"'\",'').str.replace(']','').str.strip()\n",
    "    df['produced_by'] = df['produced_by'].fillna('Unknown')\n",
    "\n",
    "    # Limpiamos columna distributed_by\n",
    "    df['distributed_by'] = df['distributed_by'].str.split(',').str[0]\n",
    "    df['distributed_by'] = df['distributed_by'].str.replace('\"','').str.replace('[','').str.replace(\"'\",'').str.replace(']','').str.strip()\n",
    "    df['distributed_by'] = df['distributed_by'].fillna('Unknown')\n",
    "\n",
    "    # Limpiamos columna based_on\n",
    "    df['based_on'] = df['based_on'].str.replace('\"','').str.replace('[','').str.replace(']','').str.replace(\"\\',\",'').str.replace(\"\\'\",'').str.replace(\"'\",'').str.replace(\"by,\",'by').str.replace('\\\\','')\n",
    "    df['based_on'] = df['based_on'].str.replace('Disney s','').str.replace('Disneys','').str.replace('Walt Disney s','').str.strip().str.capitalize()\n",
    "    df['based_on'] = df['based_on'].fillna('No based')\n",
    "    df['based_on'] = df['based_on'].str.split('by').str[0].str.strip().str.capitalize()\n",
    "    \n",
    "\n",
    "elegir_primer(df_exploded)"
   ]
  },
  {
   "cell_type": "code",
   "execution_count": 34,
   "metadata": {},
   "outputs": [
    {
     "data": {
      "text/plain": [
       "title                  0.00\n",
       "production_company     9.26\n",
       "country                0.93\n",
       "language               0.46\n",
       "running_time           2.31\n",
       "budget                36.81\n",
       "box_office            17.82\n",
       "release_date           0.93\n",
       "imdb                   3.70\n",
       "directed_by            0.00\n",
       "produced_by            0.00\n",
       "based_on               0.00\n",
       "distributed_by         0.00\n",
       "dtype: float64"
      ]
     },
     "execution_count": 34,
     "metadata": {},
     "output_type": "execute_result"
    }
   ],
   "source": [
    "hola =(df_exploded.isna().sum() / len(df_exploded) * 100).round(2)\n",
    "hola"
   ]
  }
 ],
 "metadata": {
  "kernelspec": {
   "display_name": "Python 3",
   "language": "python",
   "name": "python3"
  },
  "language_info": {
   "codemirror_mode": {
    "name": "ipython",
    "version": 3
   },
   "file_extension": ".py",
   "mimetype": "text/x-python",
   "name": "python",
   "nbconvert_exporter": "python",
   "pygments_lexer": "ipython3",
   "version": "3.11.7"
  }
 },
 "nbformat": 4,
 "nbformat_minor": 2
}
